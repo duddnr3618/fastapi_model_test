{
 "cells": [
  {
   "cell_type": "code",
   "execution_count": null,
   "metadata": {},
   "outputs": [],
   "source": [
    "pip install transformers\n",
    "pip install sentencepiece\n"
   ]
  },
  {
   "cell_type": "code",
   "execution_count": 3,
   "metadata": {},
   "outputs": [
    {
     "name": "stdout",
     "output_type": "stream",
     "text": [
      "미리상을 받았다고 27일 밝혔다. 서울 양천구는 정보] 국무총리)). 국무천구는 신월구는 정보( 국무천구와 국무실실실실실실실)). 서울 양천구는 정보통신구는 정보통신구는 정보통신기술 (ICT)과 사물인터넷 (IoT) 기술 등이 집약된 첨단 버스정류장 '스마트마루'를 추가 설치\n"
     ]
    }
   ],
   "source": [
    "from transformers import MBartForConditionalGeneration, MBartTokenizer\n",
    "\n",
    "# mBART 모델과 토크나이저 로드\n",
    "model_name = \"facebook/mbart-large-cc25\"\n",
    "model = MBartForConditionalGeneration.from_pretrained(model_name)\n",
    "tokenizer = MBartTokenizer.from_pretrained(model_name)\n",
    "\n",
    "# 요약하고자 하는 텍스트 (예시로 한국어 텍스트 사용)\n",
    "text = \"부산시는 보건복지부가 주관하는 '2023년 지자체 자활 분야 평가'에서 전국 시도 중 1위 우수기관으로 선정돼 국무총리상을 받았다고 27일 밝혔다. 서울 양천구는 신월동 545-8번지 일대에 정보통신기술 (ICT)과 사물인터넷 (IoT) 기술 등이 집약된 첨단 버스정류장 '스마트마루'를 추가 설치한다고 발표했다. 또한, bhc치킨은 2년 만에 주요 제품 가격을 3천원 인상한다고 발표했다\"\n",
    "\n",
    "# 토크나이저로 텍스트를 토큰화하고 모델 입력 형식으로 변환\n",
    "inputs = tokenizer(text, return_tensors=\"pt\", max_length=1024, truncation=True)\n",
    "\n",
    "# 요약 실행\n",
    "summary_ids = model.generate(inputs[\"input_ids\"], num_beams=4, max_length=100, early_stopping=True)\n",
    "\n",
    "# 결과 출력\n",
    "print(tokenizer.decode(summary_ids[0], skip_special_tokens=True))\n"
   ]
  }
 ],
 "metadata": {
  "kernelspec": {
   "display_name": "test01",
   "language": "python",
   "name": "python3"
  },
  "language_info": {
   "codemirror_mode": {
    "name": "ipython",
    "version": 3
   },
   "file_extension": ".py",
   "mimetype": "text/x-python",
   "name": "python",
   "nbconvert_exporter": "python",
   "pygments_lexer": "ipython3",
   "version": "3.10.13"
  }
 },
 "nbformat": 4,
 "nbformat_minor": 2
}
