{
 "cells": [
  {
   "cell_type": "code",
   "execution_count": 1,
   "metadata": {},
   "outputs": [
    {
     "name": "stdout",
     "output_type": "stream",
     "text": [
      "He said that he would push for \"Pediatric Care 2.0\", which would increase the body's overall health and health, and \"not only reduce the cost of interventions, but also improve the quality of services and maintenance of the system of provision, and at the same time, the state will be responsible for and solve the concerns of caregivers\". He also stressed that \"the state will be responsible for improving the income base for the poor and improve the health care system, reduce the burden of low-income and high-cost care and improve the quality of life\".\n"
     ]
    }
   ],
   "source": [
    "from transformers import pipeline\n",
    "from transformers import AutoTokenizer, AutoModelForSeq2SeqLM\n",
    "\n",
    "translator = pipeline('translation', model='facebook/nllb-200-distilled-1.3B',  src_lang='kor_Hang', tgt_lang='eng_Latn', max_length=1500)\n",
    "input_text = input(\"단어를 입력하세요: \")\n",
    "output_text = translator(input_text, max_length=1500)[0]['translation_text']\n",
    "print(output_text)"
   ]
  },
  {
   "cell_type": "code",
   "execution_count": 6,
   "metadata": {},
   "outputs": [
    {
     "data": {
      "text/plain": [
       "568"
      ]
     },
     "execution_count": 6,
     "metadata": {},
     "output_type": "execute_result"
    }
   ],
   "source": [
    "len(output_text.strip())"
   ]
  },
  {
   "cell_type": "code",
   "execution_count": 2,
   "metadata": {},
   "outputs": [
    {
     "name": "stdout",
     "output_type": "stream",
     "text": [
      "He said that he would push for \"Pediatric Care 2.0\", which would increase the body's overall health and health. He also stressed that the state will be responsible for improving the income base for the poor and improve the health care system.\n"
     ]
    }
   ],
   "source": [
    "from transformers import pipeline\n",
    "\n",
    "# BART 모델을 사용하기 위한 pipeline 설정\n",
    "summarizer = pipeline(\"summarization\", model=\"facebook/bart-large-cnn\")\n",
    "\n",
    "# 요약 실행\n",
    "summary = summarizer(output_text, max_length=100, min_length=30, do_sample=False)\n",
    "summary = summary[0]['summary_text']\n",
    "# 결과 출력\n",
    "print(summary)"
   ]
  },
  {
   "cell_type": "code",
   "execution_count": 3,
   "metadata": {},
   "outputs": [
    {
     "ename": "",
     "evalue": "",
     "output_type": "error",
     "traceback": [
      "\u001b[1;31m현재 셀 또는 이전 셀에서 코드를 실행하는 동안 Kernel이 충돌했습니다. 셀의 코드를 검토하여 오류의 가능한 원인을 식별하세요. 자세한 내용을 보려면 <a href='https://aka.ms/vscodeJupyterKernelCrash'> 여기 </a> 를 클릭하세요. 자세한 내용은 Jupyter <a href='command:jupyter.viewOutput'>로그</a>를 참조하세요."
     ]
    }
   ],
   "source": [
    "translator = pipeline('translation', model='facebook/nllb-200-distilled-1.3B',  src_lang='kor_Hang', tgt_lang='eng_Latn', max_length=1500)\n",
    "output_text = translator(summary, max_length=1500)[0]['translation_text']\n",
    "print(output_text)"
   ]
  }
 ],
 "metadata": {
  "kernelspec": {
   "display_name": "test01",
   "language": "python",
   "name": "python3"
  },
  "language_info": {
   "codemirror_mode": {
    "name": "ipython",
    "version": 3
   },
   "file_extension": ".py",
   "mimetype": "text/x-python",
   "name": "python",
   "nbconvert_exporter": "python",
   "pygments_lexer": "ipython3",
   "version": "3.10.13"
  }
 },
 "nbformat": 4,
 "nbformat_minor": 2
}
