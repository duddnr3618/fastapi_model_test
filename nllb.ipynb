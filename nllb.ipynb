{
 "cells": [
  {
   "cell_type": "code",
   "execution_count": 4,
   "metadata": {},
   "outputs": [
    {
     "name": "stdout",
     "output_type": "stream",
     "text": [
      "I'm not sure.\n"
     ]
    }
   ],
   "source": [
    "from transformers import pipeline\n",
    "from transformers import AutoTokenizer, AutoModelForSeq2SeqLM\n",
    "\n",
    "translator = pipeline('translation', model='facebook/nllb-200-distilled-600M',  src_lang='kor_Hang', tgt_lang='eng_Latn', max_length=512)\n",
    "input_text = input(\"단어를 입력하세요: \")\n",
    "output_text = translator(input_text, max_length=512)[0]['translation_text']\n",
    "print(output_text)\n",
    "\n",
    "# nllb : text -> translate text\n",
    "# pip install transformers"
   ]
  }
 ],
 "metadata": {
  "kernelspec": {
   "display_name": "model_test01",
   "language": "python",
   "name": "python3"
  },
  "language_info": {
   "codemirror_mode": {
    "name": "ipython",
    "version": 3
   },
   "file_extension": ".py",
   "mimetype": "text/x-python",
   "name": "python",
   "nbconvert_exporter": "python",
   "pygments_lexer": "ipython3",
   "version": "3.10.13"
  }
 },
 "nbformat": 4,
 "nbformat_minor": 2
}
