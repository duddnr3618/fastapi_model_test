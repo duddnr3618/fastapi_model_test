{
 "cells": [
  {
   "cell_type": "code",
   "execution_count": null,
   "metadata": {},
   "outputs": [],
   "source": [
    "pip install transformers;\n",
    "\n"
   ]
  },
  {
   "cell_type": "code",
   "execution_count": 4,
   "metadata": {},
   "outputs": [
    {
     "name": "stdout",
     "output_type": "stream",
     "text": [
      "The decision makes Maine the second state to disqualify Trump from office, after the Colorado Supreme Court handed down its own stunning ruling.\n"
     ]
    }
   ],
   "source": [
    "from transformers import pipeline\n",
    "\n",
    "# BART 모델을 사용하기 위한 pipeline 설정\n",
    "summarizer = pipeline(\"summarization\", model=\"facebook/bart-large-cnn\")\n",
    "\n",
    "# 요약하고자 하는 텍스트\n",
    "text = \"\"\"\n",
    "The decision makes Maine the second state to disqualify Trump from office, \n",
    "after the Colorado Supreme Court handed down its own stunning ruling \n",
    "that removed him from the ballot earlier this month. \n",
    "The development is a significant victory for Trump’s critics, \n",
    "who say they’re trying to enforce a constitutional provision \n",
    "that was designed to protect the country from anti-democratic insurrectionists.\n",
    "\"\"\"\n",
    "\n",
    "# 요약 실행\n",
    "summary = summarizer(text, max_length=45, min_length=5, do_sample=False)\n",
    "\n",
    "# 결과 출력\n",
    "print(summary[0]['summary_text'])\n"
   ]
  }
 ],
 "metadata": {
  "kernelspec": {
   "display_name": "model_test01",
   "language": "python",
   "name": "python3"
  },
  "language_info": {
   "codemirror_mode": {
    "name": "ipython",
    "version": 3
   },
   "file_extension": ".py",
   "mimetype": "text/x-python",
   "name": "python",
   "nbconvert_exporter": "python",
   "pygments_lexer": "ipython3",
   "version": "3.10.13"
  }
 },
 "nbformat": 4,
 "nbformat_minor": 2
}
